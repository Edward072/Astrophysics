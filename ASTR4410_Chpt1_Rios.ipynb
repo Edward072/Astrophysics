{
  "nbformat": 4,
  "nbformat_minor": 0,
  "metadata": {
    "colab": {
      "provenance": []
    },
    "kernelspec": {
      "name": "python3",
      "display_name": "Python 3"
    },
    "language_info": {
      "name": "python"
    }
  },
  "cells": [
    {
      "cell_type": "markdown",
      "source": [
        "# Chapter 1\n",
        "\n",
        "## Problem 1\n",
        "**In 1672, an international effort was made to measure the parallax angle of Mars at the time of opposition (when it was closest to Earth; see Fig. 1.10. Consider two observers who are separated by a baseline equal to Earth’s diameter. If the difference in there measurements of Mars’ angular position is 33.6\", what is the distance between Earth and Mars at the time of opposition? Express your answer both in units of m and in AU.**\n",
        "\n",
        "Stellar parallax is defined as the apparent shift of position of any nearby star against the background of distant stars. This method to measure distance, was devised by Ptolemy during the ancient greek times. Great conversion of units were giving the 17th century thanks to Edmund Halley that came with a true scale of the Solar system in astronomical units. The method used for this problem is called trigonometric parallax, which is the measurement of the angular displacement of an object from two different vantage points and is related to the known distance between such points. Simple trigonometry (i.e., similar triangles) deduces the distance to the peak using trigonometric parallax $d=\\frac{B}{\\tan p}$.\n",
        "\n",
        "The radius of Earth (6371 km) has to be taken into account to calculate the distance, then the equation becomes\n",
        "\n",
        "$$d=\\frac{R_{Earth}}{\\tan p}.$$\n",
        "\n",
        "Since the value of p is given in arc seconds, it needs to be convert it to radians to be able to substitute in tan $p$.\n",
        "\n",
        "1 rad ≈ 206264.8\", the distance $d$ between Earth and Mars at opposition is $7.822\\ \\times 10^{10}\\ m$ or $0.523\\ AU$.\n",
        "\n",
        "\\\n",
        "\n",
        "$$d = \\frac{6371\\ \\times 10^{3} }{tan\\left(\\frac{33.6\"}{2}\\cdot\\frac{1}{206264.8\"}\\right)} = 7.822\\ \\times 10^{10}\\ m.$$\n",
        "\n",
        "\\\n",
        "\n",
        "Now, make the conversion into Astronomical Unit (AU):\n",
        "\n",
        "\n",
        "$1\\ AU =1.496\\ \\times 10^{11}m $\n",
        "\n",
        "$$d = \\frac{7.822\\ \\times 10^{10}}{1.496\\ \\times 10^{11}} = 0.523\\ AU$$\n",
        "\n",
        "\n",
        "\n",
        "\n",
        "\n",
        "\n",
        "\n"
      ],
      "metadata": {
        "id": "ZN4gojWCRpeO"
      }
    },
    {
      "cell_type": "code",
      "source": [
        "import numpy as np\n",
        "\n",
        "rad= 6371*10**3 #radius of Earth in meters\n",
        "p_3 = 33.6 #angular position\n",
        "def dist(r,p):#Defining the distance in meters\n",
        "    d = r/(np.tan(p/2*1/rad2arcsec))\n",
        "    return d\n",
        "\n",
        "rad2arcsec = (3600/1)*180/np.pi # rad to arcsec\n",
        "Dist_EM = dist(rad,p_3)\n",
        "def au_m(m): # Converting m to AU\n",
        "    au = Dist_EM/m\n",
        "    return au\n",
        "m_au = 1.496*10**11 #meters to 1 AU\n",
        "Dist_au = au_m(m_au)\n",
        "\n",
        "print(\"The distance between Earth and Mars at the time of opposition is %1.3e m or the same as %1.3f AU\" % (np.round(Dist_EM),Dist_au))\n"
      ],
      "metadata": {
        "colab": {
          "base_uri": "https://localhost:8080/"
        },
        "id": "6QrKeU2eWgvF",
        "outputId": "00d87486-aa4d-4928-ba36-23c3f48934be"
      },
      "execution_count": 91,
      "outputs": [
        {
          "output_type": "stream",
          "name": "stdout",
          "text": [
            "The distance between Earth and Mars at the time of opposition is 7.822e+10 m or the same as 0.523 AU\n"
          ]
        }
      ]
    },
    {
      "cell_type": "markdown",
      "source": [
        "##Problem 2\n",
        "\n",
        "**The parallax angle for Sirius is 0.3745′′. Find the distance to Sirius in units of (i) parsecs and (ii) AU.**\n",
        "\n",
        "By knowing the parallax angle of Sirius, the distance can be found using the following expression\n",
        "\n",
        "\\\n",
        "\n",
        "$$ d = \\frac{1}{p\"} = \\frac{1}{0.3745} \\times \\frac{180 \\times 3600}{\\pi} = 550,770\\ {\\rm AU}. $$\n",
        "\n",
        "\\\n",
        "\n",
        "Usually the distance between planets is not defined in terms of meters, thus a new unit called **parsec**(**par**allax-**sec**ond, abbreviated as pc) which is the same as the distance given 1 arcsecond of parallax. The distance equation in pc becomes:\n",
        "\n",
        "\\begin{align}\n",
        "d = \\frac{1}{p^{\\prime\\prime}}\\ {\\rm pc}.\n",
        "\\end{align}\n",
        "\n",
        "The distance to Sirius  is **2 pc**;\n",
        "\n",
        "\\begin{align}\n",
        "d = \\frac{1}{0.3745}\\ = 2.67 \\ {\\rm pc}.\n",
        "\\end{align}\n",
        "\n"
      ],
      "metadata": {
        "id": "TGuXbySAjcPh"
      }
    },
    {
      "cell_type": "code",
      "source": [
        "import numpy as np\n",
        "\n",
        "pnew = 0.3745 #arc seconds\n",
        "\n",
        "def AU(p):\n",
        "    #p = parallax angle (in arcseconds)\n",
        "    p *= arcsec2rad\n",
        "    d = 1/p # distance in AU\n",
        "    return d\n",
        "\n",
        "arcsec2rad = (1./3600.)*np.pi/180 # converts arcseconds to radians\n",
        "\n",
        "d_S_AU= AU(pnew)\n",
        "print(\"The distance to Sirius is %d AU.\" % np.round(d_S_AU,-1))\n",
        "\n",
        "\n",
        "def dist_p(p):\n",
        "  #p = parallax angle\n",
        "  d = 1./p\n",
        "  return d\n",
        "d_S_pc = dist_p(pnew)\n",
        "\n",
        "print(\"The distance to Sirius is %1.2f pc.\"  % (d_S_pc))\n"
      ],
      "metadata": {
        "colab": {
          "base_uri": "https://localhost:8080/"
        },
        "id": "lkLl24H9kbku",
        "outputId": "e09943c5-a832-4be9-869c-70a1b52a0ff0"
      },
      "execution_count": 53,
      "outputs": [
        {
          "output_type": "stream",
          "name": "stdout",
          "text": [
            "The distance to Sirius is 550770 AU.\n",
            "The distance to Sirius is 2.67 pc.\n"
          ]
        }
      ]
    },
    {
      "cell_type": "markdown",
      "source": [
        "##Problem 3\n",
        "\n",
        "**At what distance from a 100 W light bulb is the radiant flux equal to the solar irradiance?**\n",
        "\n",
        "The solar irradiance is the power per unit area received from the Sun the form of electromagnetic radiation. The Sun's luminosity is defined as 1 $L_\\odot$ (or $3.828 \\times 10^{26}$ W) and the the Earth distance to the Sun is 1 AU. Assuming a vaccum between the source and the surface of the shell, the radiant flux (**$F$**) can be defined as:\n",
        "\n",
        "\n",
        "$$F = \\frac{L}{4{\\pi}r^2},$$\n",
        "\n",
        "where r is the distance between the source and the body, and L the luminosity which is being distributed uniformly across the surface area of the shell.\n",
        "\n",
        "\n",
        "For this problem the solar irradiance also know as the solar constant is 1361 W/$m^2$, and the luminosity of the bulb is 100 W. By rearangng the same equation for the radiant flux, the distance can be found as follows:\n",
        "\n",
        "$$ r = \\sqrt\\frac{L}{4{\\pi}F}. $$\n",
        "\n",
        "**The distance to receive the solar irradiance from a 100 W light bulb is 0.0765 m or $7.65 \\times 10^{-2}$ m.**"
      ],
      "metadata": {
        "id": "1IBmNuZb9Xey"
      }
    },
    {
      "cell_type": "code",
      "source": [
        "#Getting the constants as the luminosity of the Sun and distance between Sun and Earth\n",
        "from astropy.constants import L_sun, au\n",
        "import numpy as np\n",
        "\n",
        "def obtainflux(L,r):\n",
        "  #Luminosity of the Sun (W)\n",
        "  # radius in meters\n",
        "  F = L/(4*np.pi*r**2)\n",
        "  return F\n",
        "\n",
        "Solarconstant = obtainflux(L_sun.value,au.value)\n",
        "print(\"The Solar flux is  %4d W/m^2\" % np.round(Solarconstant,0))\n",
        "\n",
        "def obtaindist(L,F):\n",
        "  #Luminosity of the light bulb 100 (W)\n",
        "  #Solar flux (W/m^2)\n",
        "  r = (L/(4*np.pi*F))**(1/2)\n",
        "  return r\n",
        "\n",
        "Distance = obtaindist(100,Solarconstant)\n",
        "print (\"The distance to receive the solar irradiance from a 100 W light bulb is %1.4f m.\" % Distance)\n",
        "\n"
      ],
      "metadata": {
        "colab": {
          "base_uri": "https://localhost:8080/"
        },
        "id": "TB_k86uB4luX",
        "outputId": "635702b7-cd65-4e0b-ea7e-98c95de98e35"
      },
      "execution_count": null,
      "outputs": [
        {
          "output_type": "stream",
          "name": "stdout",
          "text": [
            "The Solar flux is  1361 W/m^2\n",
            "The distance to receive the solar irradiance from a 100 W light bulb is 0.0765 m.\n"
          ]
        }
      ]
    },
    {
      "cell_type": "markdown",
      "source": [
        "##Problem 4\n",
        "\n",
        "**Determine the distance modulus for Sirius (using your answer from Problem 2).**\n",
        "\n",
        "One of the first ideas when it comes to magnitude scale is to determine a star's absolute magnitude, which is how bright would a star appear if it were located 10 pc away from the Earth. To determine the apparent magnitude of the same star where it is at two different distances from us , the flux ratio becomes:\n",
        "\n",
        "$$\n",
        "\\frac{F_2}{F_1} =\\left(\\frac{r_1}{r_2}\\right)^2 = 10^{\\frac{2}{5}(m_1-m_2)}.\n",
        "$$\n",
        "\n",
        "By the definition of absolute magnitude, $m_2 = M$, $m_1 = m$, and $r_2 = 10$ pc.  This forces $r_1$ into units of pc and the most common notation changes $r_1\\rightarrow d$. The distance modulus can be calculated by the quantity $m - M$ which is the same as the measure of the distance to a star. Solving for $m - M$ instead of d results in\n",
        "\n",
        "$$ m -M  = 5\\log_{10}\\left(\\frac{d}{10 \\ pc}\\right)$$\n",
        "\n",
        "The absolute magnitude of Sirius can be determined using its apparent magnitude $m_{Sirius} = -1.46$. From problem 2 the distance to Sirus was found to be 2.67 pc . Then, the absolute magnitude of Sirius can be determined as\n",
        "\n",
        "$$ M_{Sirius} = -1.46- 5 \\log_{10} (0.267) = 1.41. $$\n",
        "\n",
        "The distance Modulus of Sirius becomes\n",
        "\n",
        "$$ m_{Sirius} - M_{Sirius} = -1.46 - 1.41 = -2.867.$$"
      ],
      "metadata": {
        "id": "KDxMgBM7-oKg"
      }
    },
    {
      "cell_type": "code",
      "source": [
        "import numpy as np\n",
        "# From problem 2 the distance to Sirius is 2.67 pc\n",
        "\n",
        "#Get the absolute magnitude\n",
        "def absmag(m,d):\n",
        "  M = m-5*np.log10(d/10) #pc\n",
        "  return M\n",
        "\n",
        "Sirius_app = -1.46\n",
        "Sirius_dist = 2.67 #pc\n",
        "Absolute = absmag(Sirius_app,Sirius_dist)\n",
        "print(\"The absolute magnitude of Sirus is %1.2f\" % Absolute)\n",
        "\n",
        "# Calculate the distance modulus\n",
        "print(\"The distance modulus for Sirius is %1.3f\" % np.round(Sirius_app-Absolute,3))\n"
      ],
      "metadata": {
        "colab": {
          "base_uri": "https://localhost:8080/"
        },
        "id": "IBfSOEFvDKWz",
        "outputId": "74c14918-85df-4b59-97e5-1e6e52a49ae0"
      },
      "execution_count": null,
      "outputs": [
        {
          "output_type": "stream",
          "name": "stdout",
          "text": [
            "The absolute magnitude of Sirus is 1.41\n",
            "The distance modulus for Sirius is -2.867\n"
          ]
        }
      ]
    },
    {
      "cell_type": "markdown",
      "source": [
        "##Problem 5\n",
        "**What is the luminosity ratio between Sirius and the Sun ?**\n",
        "\n",
        "The luminosity ratio can be obtained by the change in brightness equation\n",
        "\n",
        "$$\\frac{L_{Sirius}}{L_{Sun}} = 10^{\\frac{2}{5}(m_1-m_2)},$$\n",
        "\n",
        "where $m_1$ is the absolute magnitude of the Sun (4.742) and $m_2$ is the absolute magnitude of Sirius (1.41).\n",
        "\n",
        "The luminosity ratio between Sirius and the Sun is 21, which means is 21 times as luminous as the Sun.\n",
        "\n",
        "$$\\frac{L_{Sirius}}{L_{Sun}} = 10^{\\frac{2}{5}(4.742-1.41)} = 21.$$\n",
        "\n",
        "\n"
      ],
      "metadata": {
        "id": "goQ0tN1-K6Az"
      }
    },
    {
      "cell_type": "code",
      "source": [
        "import numpy as np\n",
        "\n",
        "#Calculate the luminosity ratio between Sirius and the Sun\n",
        "#Absolute magnitude of the Sun is 4.742 from the notes\n",
        "#Absolute magnitude of Sirius is 1.41 from problem 4\n",
        "\n",
        "def getlumratio(MS,Ms):\n",
        "  L_ratio = 10**(0.4*(MS-Ms))\n",
        "  return L_ratio\n",
        "\n",
        "Lum_ratio = getlumratio(4.742,1.41)\n",
        "print(\"The luminosity ratio between Sirius and the Sun is %2d, which means is 21 times as luminious as the Sun\" % Lum_ratio)\n"
      ],
      "metadata": {
        "colab": {
          "base_uri": "https://localhost:8080/"
        },
        "id": "o0cmaTq8L8Vl",
        "outputId": "52d91386-5c68-4dba-cc83-6b1c7172075c"
      },
      "execution_count": 43,
      "outputs": [
        {
          "output_type": "stream",
          "name": "stdout",
          "text": [
            "The luminosity ratio between Sirius and the Sun is 21, which means is 21 times as luminious as the Sun\n"
          ]
        }
      ]
    },
    {
      "cell_type": "markdown",
      "source": [
        "##Problem 6\n",
        "**The average person has 1.4 $m^2$ of skin with a temperature of roughly 306 K. Consider the average person to be an ideal radiator standing in an empty room at 293 K.**\n",
        "\n",
        "\\\n",
        "\n",
        "**(a)Calculate the luminosity radiated by the average person. Express your answer in watts.**\n",
        "\n",
        "In 1879, Josef Stefan showed that the luminosity $L$ of a blackbody is proportional to the surface area $A$ and temperature $T$ (in K).  Five years later, Ludwig Boltzmann derived an equation using the laws of thermodynamics and Maxwell's formula for radiation pressure.  Now called the **Stefan-Boltzmann equation**, it forms an equality for the luminosity as\n",
        "\n",
        "$$L = \\sigma A T^4,$$\n",
        "\n",
        "where $σ$ represents the Stefan-Boltzmann constant ($5.670374419\\ldots \\times 10^{-8}\\; {\\rm W}\\;{\\rm m}^{-2}\\;{\\rm K}^{-4}$).\n",
        "\n",
        "Given the surface area ($1.4m^2$) and the temperature ($306K$) for the avergae person, the luminosity radiaded by the average person is found to be 696 Watts.\n",
        "\n",
        "$$ L = σ\\cdot1.4\\cdot 306^4 = 696 \\ Watts.$$\n",
        "\n",
        "\\\n",
        "\n",
        "**(b)** **Determine the peak wavelength $\\lambda_{\\rm max}$ emitted by the average person and the range of the electromagnetic spectrum where the peak wavelength is found**.\n",
        "\n",
        "A blackbody with temperature T, in this case the average person, emits a continuous spectrum with some energy at all wavelengths with a maximum intensity occurring at a wavelength $\\lambda_{\\rm max}$.  Wien's displacement law describes the relationship between the temperature and the maximum wavelength as\n",
        "\n",
        "\\begin{align}\n",
        "\\lambda_{\\rm max}T = 2.897744 \\times 10^6 \\; {\\rm nm\\;K}.\n",
        "\\end{align}\n",
        "\n",
        "By rearranging the equation and solving for $\\lambda_{\\rm max}$ , the peak wavelength $\\lambda_{\\rm max}$ emitted by the average person is 9470 nm or $9.47 × 10^{-6}$ m which corresponds to the infrared spectrum.\n",
        "\n",
        "$$\\lambda_{\\rm max} = \\frac{2.897744 \\times 10^6\\; {\\rm nm\\;K}}{306\\ K} = 9,470 \\ nm$$\n",
        "\n",
        "\\\n",
        "\n",
        "**(c)** **Calculate the energy absorbed by the average person, expressed in watts.**\n",
        "\n",
        "The average person also absorbs energy from its enviroment, in this case the empty room with temperature of 293 K. To find this energy, the Stefan-Boltzmann equation can be used again just changing the temperature.\n",
        "\n",
        "The energy absorbed by the average person is 585 Watts.\n",
        "\n",
        "$$ L = σ\\cdot1.4\\cdot 293^4 = 585 \\ Watts.$$\n",
        "\n",
        "\\\n",
        "\n",
        "**(d)** **Calculate the *net* energy exchange between the average person and the room.**\n",
        "\n",
        "Net energy exchange = emission - absorption\n",
        "\n",
        "The net energy exchange between the average person and the room is 110 Watts.\n",
        "\n",
        "$$ N_{energy} = 696-585 = 111 \\ Watts$$\n",
        "\n"
      ],
      "metadata": {
        "id": "iR-2fBLkK-fc"
      }
    },
    {
      "cell_type": "code",
      "source": [
        "import numpy as np\n",
        "from astropy.constants import sigma_sb, k_B #importing Stefan-Boltzmann constant and Boltzmann constant\n",
        "\n",
        "#Calculate the the luminosity radiated\n",
        "def getlum(sigma,A,T):\n",
        "  L = sigma*A*T**4\n",
        "  return L\n",
        "temp_room = 293 # K\n",
        "temp = 306 # Temperatute of the average person in K\n",
        "Area = 1.4 #m^2\n",
        "Luminosity = getlum(sigma_sb.value,Area,temp) #Watts\n",
        "\n",
        "print(\"The luminosity radiated by the average person is %2d watts.\" % Luminosity)\n",
        "peak_wavelength = (2.897744*10**6)/temp\n",
        "print(\"The peak wavelength emmitted by the average person is at %d nm (infrared) or at 9.47e-6 m.\" % np.round(peak_wavelength))\n",
        "\n",
        "#Get the energy absorbed by the average person\n",
        "Energy_person = getlum(sigma_sb.value,Area,temp_room)\n",
        "print(\"The energy absorbed by the average person is %d watts\" % np.round(Energy_person,2))\n",
        "print(\"The net energy exchange between the average person and the room is %d watts\" % np.round(Luminosity-Energy_person))\n",
        "\n"
      ],
      "metadata": {
        "colab": {
          "base_uri": "https://localhost:8080/"
        },
        "id": "oN0-8nwvEErT",
        "outputId": "66ba9bc3-4647-4487-ec9f-d3bc70c97fb7"
      },
      "execution_count": 32,
      "outputs": [
        {
          "output_type": "stream",
          "name": "stdout",
          "text": [
            "The luminosity radiated by the average person is 696 watts.\n",
            "The peak wavelength emmitted by the average person is at 9470 nm (infrared) or at 9.47e-6 m.\n",
            "The energy absorbed by the average person is 585 watts\n",
            "The net energy exchange between the average person and the room is 111 watts\n"
          ]
        }
      ]
    },
    {
      "cell_type": "markdown",
      "source": [
        "## Problem 7\n",
        "\n",
        "**(a)** **Show that the Rayleigh-Jeans law is an approximation of the Planck function** $B_\\lambda$ **in the limit of** $\\lambda \\gg hc/(kT)$.  **Hint: the first-order expansion $e^x \\approx 1 + x$ for $x \\ll 1$ will be useful.**\n",
        "\n",
        "\\\n",
        "\n",
        "Lord Rayleigh developed a formula based on Maxwell's equations and thermal physics.  His strategy considered a cavity of temperature $T$ filled with radiation (i.e., a hot oven filled with standing waves).\n",
        "\n",
        "Rayleigh derived an approximation for $B_\\lambda(T)$ that was valid for large (long) $\\lambda$ as\n",
        "\n",
        "\\begin{align}\n",
        "B_\\lambda(T) \\approx \\frac{2ckT}{\\lambda^4},\n",
        "\\end{align}\n",
        "\n",
        "and agrees well with the blackbody curve for long $\\lambda$.  However, this result explodes for short $\\lambda$ (i.e., $ \\lim_{\\lambda\\rightarrow 0} B_\\lambda(T) = \\infty$).  The theoretical results was dubbed the \"ultraviolet catastrophe\" and is known today as the **Rayleigh-Jeans law**.\n",
        "\n",
        "Max Planck discovered a slight modification to Wien's approximation could fit the blackbody curves for both long and short wavelengths.  This modification was subtracting one from the exponential function as\n",
        "\n",
        "\n",
        "\n",
        "$$B_\\lambda(T) = \\frac{2hc^2\\lambda^{-5}}{e^{\\frac{hc}{k\\lambda T}}-1}. \\qquad $$\n",
        "\n",
        "For Planck Function, consider the Taylor expansion series for $e^x.$\n",
        "\n",
        "$$ e^x = 1+x+\\frac{x^2}{2!}+\\frac{x^3}{3!}+...,$$\n",
        "\n",
        "then in the limit of high temperatures or long wavelengths, the term in the exponential becomes small, and the exponential is approximated with the Taylor polynomial's first-order term:\n",
        "\n",
        "$$ x = \\frac{hc}{kλT}<<1;$$\n",
        "\n",
        "since\n",
        "\n",
        "$$x<<1:x>>x^2>>x^3...$$\n",
        "\n",
        "Then it becomes\n",
        "\n",
        "$$\\frac{1}{e^x-1} = \\frac{1}{1+x+\\frac{1}{2}x^2+\\frac{1}{6}x^3+...} ≈ \\frac{1}{x}$$\n",
        "\n",
        "Rearranging what was x into a fraction leaves with\n",
        "\n",
        "$$\\frac{1}{e^x-1} = \\frac{kλT}{hc}$$\n",
        "\n",
        "Multiplying the above term by the first term of Planck's function, will be the same as the Rayleigh-Jeans Law.\n",
        "\n",
        "$$B_λ(T) = \\frac{2hc^2}{λ^5}\\frac{kλT}{hc},$$\n",
        "\n",
        "is the same as\n",
        "\n",
        "$$B_\\lambda(T) = \\frac{2ckT}{\\lambda^4}.$$\n",
        "\n",
        "\n"
      ],
      "metadata": {
        "id": "3HpVtL8GtheM"
      }
    },
    {
      "cell_type": "code",
      "source": [
        "### PART B\n",
        "\n",
        "#Plotting the functions\n",
        "\n",
        "import numpy as np\n",
        "import matplotlib.pyplot as plt\n",
        "from astropy.constants import h,c,k_B\n",
        "\n",
        "wavelength = np.linspace(100,3000,100)\n",
        "wavelength_m = wavelength*1e-9\n",
        "T_sun = 5772 # Temperature of the Sun from the notes\n",
        "\n",
        "a = 2*h.value*c.value**2\n",
        "b = np.exp((h.value*c.value/(wavelength_m*k_B.value*T_sun)))-1\n",
        "c = 2*c.value*k_B.value*T_sun\n",
        "Planck_f = a/(wavelength_m**5)*(1/b)\n",
        "Ray_f = c/(wavelength_m**4)\n",
        "\n",
        "#Plotting\n",
        "plt.plot(wavelength,Planck_f, color = \"slateblue\",label = \"Planck's Function\")\n",
        "plt.plot(wavelength,Ray_f,color = \"darkseagreen\",label = \"Rayleigh's Function\")\n",
        "plt.ylim(1e8,0.4e14)\n",
        "plt.xlabel(\"Wavelength (nm)\")\n",
        "plt.ylabel(\"Intensity (W / sr $m^3$)\")\n",
        "plt.legend()\n",
        "plt.show()\n",
        "print(\" The Rayleigh-Jeans value is twice as large as the Planck's funtion at 2000 nm.\")"
      ],
      "metadata": {
        "colab": {
          "base_uri": "https://localhost:8080/",
          "height": 482
        },
        "id": "wfSgHalUFt8r",
        "outputId": "551f7a7d-1770-4f62-f2db-6abf8e0e696c"
      },
      "execution_count": 27,
      "outputs": [
        {
          "output_type": "display_data",
          "data": {
            "text/plain": [
              "<Figure size 640x480 with 1 Axes>"
            ],
            "image/png": "[encoded data removed]"
          },
          "metadata": {}
        },
        {
          "output_type": "stream",
          "name": "stdout",
          "text": [
            " The Rayleigh-Jeans value is twice as large as the Planck's funtion at 2000 nm.\n"
          ]
        }
      ]
    },
    {
      "cell_type": "markdown",
      "source": [
        "## Problem 8\n",
        "\n",
        "**Derive Wien's law, by setting** $d B_\\lambda /d\\lambda = 0$.  **Hint: You will encounter an equation that must be solved numerically.**\n",
        "\n",
        "Wien's law describes the maximum wavelength for the function $B(λ,T)$.\n",
        "\n",
        "Plankc's radiation law is known as\n",
        "\n",
        "$${B}(\\lambda, T) = \\frac{2hc^2}{\\lambda^5\\left(e^{hc/(\\lambda kT}) - 1\\right)}.$$\n",
        "\n",
        "By setting $d B_\\lambda /d\\lambda = 0$ the maximum of the function will be determined. Since it is the maximum wavelength, the derivative has to be taken with respect to λ.\n",
        "\n",
        "\\begin{align*}\n",
        "2 hc^2\\frac{d}{d\\lambda}\\left[\\lambda^{-5}\\left(e^{hc/(\\lambda kT)} - 1\\right)^{-1}\\right] = 0, \\\\\n",
        "2 hc^2\\left[-5\\lambda^{-6}\\left(e^{hc/(\\lambda kT)} + 1\\right)^{-1} - \\frac{hc}{\\lambda^7 kT}e^{hc/(\\lambda kT)}\\left(e^{hc/(\\lambda kT)} - 1\\right)^{-2}\\right] = 0, \\\\\n",
        "\\frac{2 hc^2}{\\lambda^6\\left(e^{hc/(\\lambda kT)} + 1\\right)}\\left[-5 - \\frac{hc}{\\lambda kT}e^{hc/(\\lambda kT)}\\left(e^{hc/(\\lambda kT)} - 1\\right)^{-1}\\right] = 0, \\\\\n",
        "\\frac{\\mathcal{I}(\\lambda, T)}{\\lambda}\\left[-5 + \\frac{hc}{\\lambda kT}\\frac{e^{hc/(\\lambda kT)}}{\\left(e^{hc/(\\lambda kT)} - 1\\right)}\\right] = 0.\n",
        "\\end{align*}\n",
        "\n",
        "By settind the derivative in this form the solution for ${B}(\\lambda, T) = 0$ which is not a conclusion for the observations made. The second term in brackets must be equal to zero\n",
        "\n",
        "$$ -5 + \\frac{hc}{\\lambda kT}\\frac{e^{hc/(\\lambda kT)}}{\\left(e^{hc/(\\lambda kT)} - 1\\right)} = 0.$$\n",
        "\n",
        "Set a transformation $x = hc/(\\lambda kT)$, substitute, and the equation becomes\n",
        "\n",
        "$$ -5 + \\frac{xe^x}{e^x-1} = 0, $$\n",
        "\n",
        "$$ xe^x = 5(e^x-1).$$\n",
        "\n",
        "This is a trascendental equation that can be solved numerically via root finding (e.g., bisect). The result is $x ≈ 4.965$\n",
        "\n",
        "$$ \\frac{hc}{\\lambda_{\\rm max}kT} = 4.965.$$\n",
        "\n",
        "\\\n",
        "Wien's displacement law is $λ_{max}T =constant$, solving for $λ_{max}T$ produces\n",
        "\n",
        "\\begin{align*}\n",
        "\\lambda_{\\rm max}T &= \\frac{hc}{4.965k} \\\\\n",
        "&= \\frac{(6.6261 \\times 10^{-34}\\ {\\rm J\\cdot s})(3 \\times 10^8\\ {\\rm m/s})}{4.965(1.38 \\times 10^{-23}\\ {\\rm J/K})} \\\\\n",
        "&= 2.898 \\times 10^{-3}\\ {\\rm m\\cdot K},\n",
        "\\end{align*}\n",
        "\n",
        "\n"
      ],
      "metadata": {
        "id": "EjBooFdztl9m"
      }
    },
    {
      "cell_type": "code",
      "source": [
        "from scipy.optimize import bisect\n",
        "import numpy as np\n",
        "from astropy.constants import h,c,k_B,b_wien\n",
        "\n",
        "def transcen(lam):\n",
        "    return (h.value*c.value)/((lam*1e-9)*k_B.value*T)\n",
        "\n",
        "def func(lam):\n",
        "    x = transcen(lam)\n",
        "    return x*np.exp(x) - 5*(np.exp(x) - 1.)\n",
        "\n",
        "#Get the constant for wiens displacement\n",
        "def getwiens(x):\n",
        "    return (h.value*c.value)/(x*k_B.value)\n",
        "\n",
        "T = 6000 #trial temperature for hc/(lambda kT)\n",
        "root = bisect(func, 100, 1000)\n",
        "x_2 = transcen(root)\n",
        "Const = getwiens(x_2)\n",
        "print(\"The root of the trascental equation is %1.3f.\"% np.round(x_2,3))\n",
        "print(\"The constant for Wiens displacement law was found to be %1.3e m K.\\n\" % Const)\n"
      ],
      "metadata": {
        "colab": {
          "base_uri": "https://localhost:8080/"
        },
        "id": "oX0JklKpQrYB",
        "outputId": "99d2e1e1-2e04-40d1-9750-413e6f8eb485"
      },
      "execution_count": null,
      "outputs": [
        {
          "output_type": "stream",
          "name": "stdout",
          "text": [
            "The root of the trascental equation is 4.965.\n",
            "The constant for Wiens displacement law was found to be 2.898e-03 m K.\n",
            "\n"
          ]
        }
      ]
    },
    {
      "cell_type": "markdown",
      "source": [
        "##Problem 9\n",
        "\n",
        "**The frequency form of the Planck function is given as $B_\\nu (T) = \\frac{2h\\nu^3/c^2}{e^{\\frac{h\\nu}{kT}-1}}. $**\n",
        "\n",
        "\\\n",
        "\n",
        "**(a)** **Find an expression at which $B_\\nu$ attains its maximum value (i.e., $\\nu_{\\rm max}$).**\n",
        "\n",
        "To find the the frequency maximum $\\nu_{\\rm max}$, the derivative of the function with respect to $\\nu_{\\rm max}$ must be found and set it equal to zero.\n",
        "\n",
        "$$ \\frac{dB_\\nu}{d_\\nu} = \\frac{2h}{c^2}\\left(\\frac{3\\nu^2}{e^{\\frac{h\\nu}{kT}}-1}-\\frac{h\\nu^3/kTe^{h\\nu/kT}}{e^{\\frac{h\\nu}{kT}}-1} \\right) = 0 $$\n",
        "\n",
        "Doing a little bit of symplification:\n",
        "\n",
        "$$ 3\\left(e^{h\\nu/kT}-1\\right)-h\\nu/kTe^{h\\nu/kT} = 0$$\n",
        "\n",
        "The equation can be simpler by introducing a new variable, for this case, $u = h\\nu/kT-3$, then the equation becomes\n",
        "\n",
        "$$ ue^{u+3}+3 = 0$$,\n",
        "\n",
        "Which can be arranged by doing some algebra\n",
        "\n",
        "$$ ue^u = -3e^{-3}$$\n",
        "\n",
        "This is a trascendental equation and can be solved numerically via root finding method (e.g.,fsolve). The result for $u ≈ -0.179$.\n",
        "\n",
        "Substituing u back in, the equation results in\n",
        "\n",
        "$$h\\nu/kT-3 = -0.179$$\n",
        "\n",
        "Now rearrange terms to solve for $\\nu_{max}$\n",
        "\n",
        "$$\\nu_{max} = 5.88 \\ \\times\\ 10^{10} Hz\\ K^{-1} \\cdot T$$\n",
        "\n",
        "\\\n",
        "\n",
        "**(b)** **What is the value of $\\nu_{\\rm max}$ for the Sun?**\n",
        "\n",
        "The Sun surface temperature is 5,772 K, which can be apply into the expression for $\\nu_{max}$ and get value of $\\nu_{\\rm max}$ for the Sun.\n",
        "\n",
        "$$Sun_{\\nu_{max}} = 3.39\\  \\times \\ 10^{14}\\ Hz $$\n",
        "\n",
        "**(c)** Find the wavelength of light corresponding to $\\nu_{\\rm max}$.  In what region of the electromagnetic spectrum is this wavelength?\n",
        "\n",
        "To find the wavelength corresponding to $Sun_{\\nu_{max}}$, the equation for the wave speed $c$ can be used.\n",
        "\n",
        "$$c = λ\\nu$$\n",
        "\n",
        "\n",
        "$$ λ = \\frac{c}{\\nu}$$\n",
        "\n",
        "\\\n",
        "\n",
        "$$ λ = \\frac{299792458\\ m/s}{3.39\\  \\times \\ 10^{14}\\ Hz} = 8.83 \\ \\times \\ 10^{-7}\\ m$$\n",
        "\n",
        "\\\n",
        "\n",
        "The wavelength of light corresponding to $Sun_{\\nu_{max}}$ is $\\ $$8.83 \\ \\times \\ 10^{-7}$ m or $883$ nm which corresponds to the infrared spectrum.\n",
        "\n",
        "\n"
      ],
      "metadata": {
        "id": "Czzzi3jYtozm"
      }
    },
    {
      "cell_type": "code",
      "source": [
        "import numpy as np\n",
        "from scipy.optimize import fsolve\n",
        "from astropy.constants import h,k_B,c\n",
        "from sympy.abc import T\n",
        "\n",
        "# v = nu\n",
        "T_sun = 5772 #K\n",
        "\n",
        "def v(u):\n",
        "  return u*np.exp(u)+3*np.exp(-3) #solving the trascendental equation\n",
        "\n",
        "root = fsolve(v,3)\n",
        "print(\"The value for u is %1.3f \" % np.round(root,3))\n",
        "\n",
        "newvalue = root+3 #Taking 3 to the other side of the eqn\n",
        "numax = (newvalue*k_B*T)/h #Solving for nu_max\n",
        "\n",
        "print(\"The expression for v_max turns out to be \", numax)\n",
        "\n",
        "def vmaxS(k,T,h): # Calculating vmax\n",
        "    return (newvalue*k*T)/h\n",
        "\n",
        "Sun_numax = vmaxS(k_B.value,T_sun,h.value)\n",
        "print(\"The value of v_max for the sun is %1.2e Hz. \" % Sun_numax)\n",
        "\n",
        "def wave(c,vm):\n",
        "    return c/vm\n",
        "\n",
        "wavelength_sun = wave(c.value,Sun_numax)\n",
        "wavelenght_nm = wavelength_sun*1e9\n",
        "print(\"The wavelength found for Sun v_max is %1.2e m or %d nm (infrared).\" % (wavelength_sun, wavelenght_nm))\n"
      ],
      "metadata": {
        "colab": {
          "base_uri": "https://localhost:8080/"
        },
        "id": "H9BVQygLm1R2",
        "outputId": "bdd9994a-89b9-439a-db77-6d1ff3ead6fd"
      },
      "execution_count": 13,
      "outputs": [
        {
          "output_type": "stream",
          "name": "stdout",
          "text": [
            "The value for u is -0.179 \n",
            "The expression for v_max turns out to be  [58789257576.4683*T] 1 / (K s)\n",
            "The value of v_max for the sun is 3.39e+14 Hz. \n",
            "The wavelength found for Sun v_max is 8.83e-07 m or 883 nm (infrared).\n",
            "299792458.0\n"
          ]
        }
      ]
    },
    {
      "cell_type": "markdown",
      "source": [
        "##Problem 10\n",
        "\n",
        "Shaula ($\\lambda$ Scorpii) is a bright $(V=1.62)$ blue-white subgiant star with a surface temperature of about 22,000 K.\n",
        "\n",
        "\\\n",
        "\n",
        "**(a)** Use the values of the $C_{U-B}=-0.87$ and $C_{B-V}=0.65$ to estimate the color indices $U-B$ and $B-V$.  Compare your answers with the measured values of $U-B=-0.880$ and $B-V = -0.240$ (Hamdy, Abo Elazm, & Saad (1993)).\n",
        "\n",
        "A star's color can be precisely measured using a filter that permits a narrow range of wavelengths to pass through. These three filters are designated by letter as:\n",
        "\n",
        "- *U* (ultraviolet) magnitude, where the filter is centered at 365 $\\pm$ 68 nm,\n",
        "\n",
        "- *B* (blue) magnitude, where the filter is centered at 440 $\\pm$ 98 nm,\n",
        "\n",
        "- *V* (visual or green) magnitude, where the filter is centered at 550 $\\pm$ 89 nm.\n",
        "\n",
        "A color index is the difference between a star's brightness in each of the standard wavelength filters. For example:\n",
        "\n",
        "$$U-B = m_u - m_B = M_U - M_B$$\n",
        "\n",
        "and\n",
        "\n",
        "$$B-V = m_B - m_V = M_B - M_V$$\n",
        "\n",
        "represent the difference in stellar magnitudes between the filters.\n",
        "\n",
        "The color indices $(U-B$ or $B-V)$ are determined through the flux ratio.  For $X-Y$, it follows that\n",
        "\n",
        "\\begin{align}\n",
        " X-Y = m_X - m_Y = -2.5 \\log_{10}\\left(\\frac{\\int F_\\lambda S_X d\\lambda}{\\int F_\\lambda S_Y d\\lambda} \\right) + C_{X-Y},\n",
        "\\end{align}\n",
        "\n",
        "Shaula ($\\lambda$ Scorpii) is a hot blu star with a surface temperaure of 22,000 K and the given constants are $C_{U-B}=-0.87$ and $C_{B-V}=0.65$. The color indices $B-V$ and $U-B$ can be determined by using the ratio of the fluxes.\n",
        "\n",
        "\\begin{align*}\n",
        "U - B &= -2.5\\log_{10} \\left[\\left(\\frac{\\lambda_V}{\\lambda_B}\\right)^5 \\frac{e^{hc/(\\lambda_B kT)}-1}{e^{hc/(\\lambda_V kT)}-1} \\left(\\frac{\\Delta \\lambda_V}{\\Delta \\lambda_B}\\right)\\right] + C_{U-B}, \\\\\n",
        "U - B &=  -0.21 -0.87, \\\\\n",
        "U - B & = -1.08.\n",
        "\\end{align*}\n",
        "\n",
        "Same process to get $B-V$\n",
        "\n",
        "\\begin{align*}\n",
        "B - V &= -2.5\\log_{10} \\left[\\left(\\frac{\\lambda_V}{\\lambda_B}\\right)^5 \\frac{e^{hc/(\\lambda_B kT)}-1}{e^{hc/(\\lambda_V kT)}-1} \\left(\\frac{\\Delta \\lambda_V}{\\Delta \\lambda_B}\\right)\\right] + C_{B-U}, \\\\\n",
        "B - V &=  -0.88 + 0.65, \\\\\n",
        "B - V & = -0.23.\n",
        "\\end{align*}\n",
        "\n",
        "The measured value for $U-B$ is -0.880 which is close to the value that I got (-1.08) and the measure value for $B-V$ is -0.24 which is also close with -0.23, the difference between the values could have been due to having different values for the wavelengths peaks and  with of each filter.  \n",
        "\n",
        "\\\n",
        "\n",
        "**(b)** The Hipparcos Space Astrometry Mission measured the parallax angle for Shaula to be 5.71 mas (Van Leeuwen (2007)).  Determine the absolute visual magnitude of the star\n",
        "\n",
        "The first thing to determine the absolute visual magnitude of Shaula is to convert the parallax angle into arc seconds and then calculate the distance in pc.\n",
        "\n",
        "$$ 5.71  = 5.71 \\times{10^{-3}}\"$$\n",
        "$$ d = \\frac{1}{0.00571\"} = 175 \\ pc $$\n",
        "\n",
        "By having the distance in pc, and the apparent magnitude, the equation for distance modulus can be solve to get the absolute magnitude of Shaula.\n",
        "\n",
        "$$ M_{Shaula} = 1.62 - 5 \\log_{10} (17.5) = -4.6. $$\n",
        "\n",
        "**The absolute magnitude of Shaula is -4.6.**\n",
        "\n",
        "\n"
      ],
      "metadata": {
        "id": "OACt06ZztrRh"
      }
    },
    {
      "cell_type": "code",
      "source": [
        "import numpy as np\n",
        "\n",
        "def Flux_lambda(l):\n",
        "    #l = lambda (wavelength)\n",
        "    lam = l*1e-9 #convert lambda from nm to m\n",
        "    return (a/lam**5)/(np.exp(b/lam)-1.)\n",
        "c = 2.99792458e8 #speed of light in m/s\n",
        "planck_h = 6.6206876e-34 #Planck's constant in J*s\n",
        "Boltz_k = 1.3806503e-23 # Boltzmann constant in J/K\n",
        "\n",
        "T_star = 22000 #K\n",
        "a = 2*np.pi*planck_h*c**2\n",
        "b = (planck_h*c)/(Boltz_k*T_star)\n",
        "\n",
        "#Calculate flux at the peak sensitivity and multiply by the width of the filter\n",
        "F_B = Flux_lambda(440)*98\n",
        "F_V = Flux_lambda(550)*89\n",
        "F_U = Flux_lambda(365)*68\n",
        "\n",
        "\n",
        "U_B = -2.5*np.log10(F_U/F_B) - 0.87\n",
        "#print(np.round(2.5*np.log10(F_U/F_B),2))\n",
        "print(\"U-B =\", np.round(U_B,2))\n",
        "\n",
        "B_V = -2.5*np.log10(F_B/F_V) + 0.65\n",
        "#print(np.round(2.5*np.log10(F_B/F_V),2))\n",
        "print(\"B-V =\",np.round(B_V,2))\n",
        "\n",
        "### part b\n",
        "apparent = 1.62\n",
        "p_angle = 5.71 #mas\n",
        "p_angle2 = 5.71*1e-3 #conversion to arc-seconds\n",
        "distance = 1/p_angle2 #distance in pc\n",
        "\n",
        "\n",
        "def absmag(m,d):\n",
        "  M = m-5*np.log10(d/10) #pc\n",
        "  return M\n",
        "\n",
        "Absolutemag = absmag(apparent,distance)\n",
        "print(\"The absolute magnitude for Shaula is\", np.round(Absolutemag,2))\n",
        "\n"
      ],
      "metadata": {
        "colab": {
          "base_uri": "https://localhost:8080/"
        },
        "id": "xKrZ4IOcsZoC",
        "outputId": "f33b2bd2-681c-4d0f-c3d1-8d71a24e7420"
      },
      "execution_count": 4,
      "outputs": [
        {
          "output_type": "stream",
          "name": "stdout",
          "text": [
            "U-B = -1.08\n",
            "B-V = -0.23\n",
            "The absolute magnitude for Shaula is -4.6\n"
          ]
        }
      ]
    }
  ]
}